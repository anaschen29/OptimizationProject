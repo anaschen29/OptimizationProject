{
 "cells": [
  {
   "cell_type": "code",
   "execution_count": 1,
   "id": "5b366f90-0e8f-4e2e-9edc-55aaf8e018fe",
   "metadata": {},
   "outputs": [],
   "source": [
    "using Pkg"
   ]
  },
  {
   "cell_type": "code",
   "execution_count": 2,
   "id": "4070f87a-0787-479a-85a2-23cfaf30160c",
   "metadata": {},
   "outputs": [],
   "source": [
    "using CSV, DataFrames, JuMP, Gurobi, PyCall, LinearAlgebra, Ipopt\n",
    "using JuMP, Juniper, Ipopt, Statistics"
   ]
  },
  {
   "cell_type": "code",
   "execution_count": 15,
   "id": "20885693-4c8f-4b92-a0cb-965058c2ab30",
   "metadata": {},
   "outputs": [],
   "source": [
    "precincts = Matrix(CSV.read(\"precinct_coords.csv\", DataFrame, header=false));"
   ]
  },
  {
   "cell_type": "code",
   "execution_count": 17,
   "id": "a3431266-33aa-4afe-bbcf-86bd99fb6a09",
   "metadata": {},
   "outputs": [],
   "source": [
    "hospitals = Matrix(CSV.read(\"UPDATEDHospitals.csv\", DataFrame, header=false)[2:end, 2:end]); "
   ]
  },
  {
   "cell_type": "code",
   "execution_count": 50,
   "id": "67779dcb-dffe-4a3e-87db-3835bcf75652",
   "metadata": {},
   "outputs": [
    {
     "name": "stdout",
     "output_type": "stream",
     "text": [
      "The distance between the two locations is 559.1205770615527 km.\n"
     ]
    }
   ],
   "source": [
    "function haversine_distance(coord1, coord2)\n",
    "    # Radius of the Earth in kilometers\n",
    "    R = 6371.0\n",
    "\n",
    "    # Convert latitude and longitude from degrees to radians\n",
    "    lat1, lon1 = deg2rad(coord1[1]), deg2rad(coord1[2])\n",
    "    lat2, lon2 = deg2rad(coord2[1]), deg2rad(coord2[2])\n",
    "\n",
    "    # Calculate the differences in coordinates\n",
    "    dlat = lat2 - lat1\n",
    "    dlon = lon2 - lon1\n",
    "\n",
    "    # Haversine formula\n",
    "    a = sin(dlat / 2)^2 + cos(lat1) * cos(lat2) * sin(dlon / 2)^2\n",
    "    c = 2 * atan(sqrt(a), sqrt(1 - a))\n",
    "\n",
    "    # Distance in kilometers\n",
    "    dist = R * c\n",
    "\n",
    "    return dist\n",
    "end\n",
    "\n",
    "# Helper function to convert degrees to radians\n",
    "function deg2rad(deg)\n",
    "    return deg * π / 180\n",
    "end\n",
    "\n",
    "# Example usage:\n",
    "coord1 = (37.7749, -122.4194)  # Latitude and longitude for San Francisco, CA\n",
    "coord2 = (34.0522, -118.2437)  # Latitude and longitude for Los Angeles, CA\n",
    "\n",
    "dist = haversine_distance(coord1, coord2)\n",
    "println(\"The distance between the two locations is $dist km.\")"
   ]
  },
  {
   "cell_type": "code",
   "execution_count": 30,
   "id": "788a980e-f73f-4549-bb6a-e5c5d399e810",
   "metadata": {},
   "outputs": [],
   "source": [
    "census = Matrix(CSV.read(\"census_data.csv\", DataFrame, header=true));"
   ]
  },
  {
   "cell_type": "code",
   "execution_count": 62,
   "id": "8df5bfc5-fd77-42b5-b582-81ae63afffc5",
   "metadata": {},
   "outputs": [],
   "source": [
    "precincts_dict = Dict()\n",
    "for i in 1:275\n",
    "    precinct_num = precincts[i, 1]\n",
    "    location = precincts[i, 2:3]\n",
    "    precincts_dict[precinct_num] = location\n",
    "end"
   ]
  },
  {
   "cell_type": "code",
   "execution_count": 66,
   "id": "30b9dcb6-4d69-4390-a6b9-b814b45db223",
   "metadata": {},
   "outputs": [
    {
     "data": {
      "text/plain": [
       "distance_hospi_precj (generic function with 1 method)"
      ]
     },
     "execution_count": 66,
     "metadata": {},
     "output_type": "execute_result"
    }
   ],
   "source": [
    "function distance_hospi_precj(i,j)\n",
    "    l1 = hospitals[i, 1:2]\n",
    "    l2 = precincts_dict[j]\n",
    "    return haversine_distance(l1,l2)\n",
    "end"
   ]
  },
  {
   "cell_type": "code",
   "execution_count": 81,
   "id": "dc77eb10-ca5d-48d3-a8eb-936c4e0b411b",
   "metadata": {},
   "outputs": [
    {
     "data": {
      "text/plain": [
       "distance_hospi_personj (generic function with 1 method)"
      ]
     },
     "execution_count": 81,
     "metadata": {},
     "output_type": "execute_result"
    }
   ],
   "source": [
    "function distance_hospi_personj(i,j)\n",
    "    l1 = hospitals[i, 1:2]\n",
    "    l2 = precincts[j, 2:3]\n",
    "    return haversine_distance(l1,l2)\n",
    "end"
   ]
  },
  {
   "cell_type": "code",
   "execution_count": 87,
   "id": "f3ee07d8-044f-4340-9b87-a7be0a312081",
   "metadata": {},
   "outputs": [
    {
     "data": {
      "text/plain": [
       "Dict{Any, Any} with 275 entries:\n",
       "  1813.0 => [1636, 270, 791, 486, 24, 8, 2, 55]\n",
       "  1107.0 => [2307, 1064, 406, 609, 145, 15, 2, 66]\n",
       "  2108.0 => [3255, 1873, 103, 296, 855, 20, 0, 108]\n",
       "  2004.0 => [1657, 1278, 82, 157, 86, 7, 0, 47]\n",
       "  308.0  => [5588, 2235, 298, 482, 2490, 7, 3, 73]\n",
       "  1703.0 => [2933, 374, 1705, 515, 137, 15, 0, 187]\n",
       "  115.0  => [0, 0, 0, 0, 0, 0, 0, 0]\n",
       "  1503.0 => [1307, 133, 511, 292, 54, 4, 0, 313]\n",
       "  112.0  => [2492, 1154, 80, 1004, 147, 2, 0, 105]\n",
       "  1812.0 => [2367, 657, 941, 607, 52, 21, 1, 88]\n",
       "  2013.0 => [1169, 1022, 25, 55, 39, 3, 0, 25]\n",
       "  2015.0 => [2580, 1695, 193, 311, 286, 13, 8, 74]\n",
       "  404.0  => [2360, 1513, 363, 214, 202, 5, 2, 61]\n",
       "  905.0  => [2272, 434, 981, 539, 222, 11, 0, 85]\n",
       "  612.0  => [3322, 2518, 133, 188, 353, 6, 1, 123]\n",
       "  1704.0 => [2952, 632, 1444, 343, 309, 10, 1, 213]\n",
       "  2211.0 => [1663, 1096, 63, 144, 271, 7, 1, 81]\n",
       "  1901.0 => [1760, 1249, 99, 216, 136, 15, 0, 45]\n",
       "  207.0  => [1760, 1273, 85, 135, 220, 15, 0, 32]\n",
       "  506.0  => [2500, 1905, 123, 214, 206, 6, 0, 46]\n",
       "  603.0  => [2611, 1761, 163, 392, 202, 15, 4, 74]\n",
       "  1609.0 => [2131, 1853, 40, 52, 139, 1, 0, 46]\n",
       "  1401.0 => [4953, 131, 2338, 1983, 71, 8, 2, 420]\n",
       "  1823.0 => [2995, 286, 1631, 928, 62, 5, 0, 83]\n",
       "  1501.0 => [2737, 120, 994, 975, 67, 6, 2, 573]\n",
       "  ⋮      => ⋮"
      ]
     },
     "execution_count": 87,
     "metadata": {},
     "output_type": "execute_result"
    }
   ],
   "source": [
    "population"
   ]
  },
  {
   "cell_type": "code",
   "execution_count": 86,
   "id": "f2605faa-ce06-4a4d-9a36-46a243681f0c",
   "metadata": {},
   "outputs": [],
   "source": [
    "population = Dict()\n",
    "for i in 1:275\n",
    "    population[precincts[i,1]] = census[i, 2:end]\n",
    "end"
   ]
  },
  {
   "cell_type": "code",
   "execution_count": 32,
   "id": "55ab6b1c-b927-407b-b964-a79f1eab763e",
   "metadata": {},
   "outputs": [
    {
     "data": {
      "text/plain": [
       "classic_distance_model (generic function with 1 method)"
      ]
     },
     "execution_count": 32,
     "metadata": {},
     "output_type": "execute_result"
    }
   ],
   "source": [
    "function classic_distance_model()\n",
    "    ipopt = optimizer_with_attributes(Ipopt.Optimizer, \"print_level\"=>0)\n",
    "    optimizer = optimizer_with_attributes(Juniper.Optimizer, \"nl_solver\"=>ipopt)\n",
    "    model_a = Model(optimizer)\n",
    "    facilities_index = 1:10 #we use i for this indexing\n",
    "    clients_index = 1:1000 #we use j for this indexing\n",
    "    @variable(model_a, x[facilities_index, clients_index], Bin)\n",
    "    @variable(model_a, y[facilities_index], Bin)\n",
    "    @constraint(model_a, [i in facilities_index], sum( x[i,j] for j in clients_index) >= 1)\n",
    "    @constraint(model_a, [i in facilities_index, j in clients_index], x[i,j] <= y[i])\n",
    "    # facilities_cost = sum(c[i]*y[i] for i in facilities_index) # need to find c\n",
    "    facilities_cost = 0\n",
    "    equity_cost = sum(sum(x[i,j]*d(i,j) for i in facilities_index) for j in clients_index)\n",
    "    @objective(model_a, Min, facilities_cost+equity_cost);\n",
    "    return model_a\n",
    "end"
   ]
  },
  {
   "cell_type": "code",
   "execution_count": null,
   "id": "86fbf607-7eba-4e37-9d0c-ac3d7f57a644",
   "metadata": {},
   "outputs": [],
   "source": [
    "# african_indices\n",
    "# american_indices"
   ]
  },
  {
   "cell_type": "markdown",
   "id": "c47f5dfe-1ee4-4cc5-a262-969d5013be7b",
   "metadata": {},
   "source": [
    "$$d(P_i) := \\frac{1}{|P_i|}\\sum_{j \\in P_i} d(j, \\pi(j)),$$"
   ]
  },
  {
   "cell_type": "markdown",
   "id": "df4a8ff6-3151-4323-89dc-72ae8f427c99",
   "metadata": {},
   "source": [
    "$d(j, pi(j)) = \\sum_{i} x_{i,j}d(i,j)$"
   ]
  },
  {
   "cell_type": "code",
   "execution_count": 121,
   "id": "93821005-c578-48e3-bdcf-3e322227fa11",
   "metadata": {},
   "outputs": [
    {
     "data": {
      "text/plain": [
       "lp_distance_model (generic function with 2 methods)"
      ]
     },
     "execution_count": 121,
     "metadata": {},
     "output_type": "execute_result"
    }
   ],
   "source": [
    "function lp_distance_model(p, precincts, population, hospitals)\n",
    "\n",
    "    #set_up\n",
    "    ipopt = optimizer_with_attributes(Ipopt.Optimizer, \"print_level\"=>0)\n",
    "    optimizer = optimizer_with_attributes(Juniper.Optimizer, \"nl_solver\"=>ipopt)\n",
    "    model_a = Model(optimizer)\n",
    "\n",
    "    #indices\n",
    "    facilities_index = 1:size(hospitals)[1] #we use i for this indexing\n",
    "    clients_index = 1:length(population) #we use j for this indexing\n",
    "\n",
    "\n",
    "    #whether client is matched to facility\n",
    "    @variable(model_a, x[facilities_index, clients_index] >= 0)\n",
    "\n",
    "    #whether facility is built/operated\n",
    "    @variable(model_a, y[facilities_index], Bin)\n",
    "\n",
    "    #every client gets matched to some service provider\n",
    "    @constraint(model_a, [i in facilities_index], sum( x[i,j] for j in clients_index) >= 1)\n",
    "\n",
    "    # you can only match client to an operating service provider\n",
    "    @constraint(model_a, [i in facilities_index, j in clients_index], x[i,j] <= y[i])\n",
    "    println(\"variables, costs added\")\n",
    "\n",
    "\n",
    "    #CHANGE THIS TO INCLUDE THE COSTS\n",
    "    # facilities_cost = sum(c[i]*y[i] for i in facilities_index) \n",
    "    facilities_cost = 0\n",
    "    value = []\n",
    "    equity_cost = 0\n",
    "    for race in 1:8\n",
    "        pop = sum(population[precinct[1]][race] for precinct in population)\n",
    "        dist = sum(sum(sum(x[i,j]*distance_hospi_personj(i,j) for i in facilities_index) for j in clients_index) for precinct in population)\n",
    "        equity_cost += (dist/pop)^p\n",
    "    end \n",
    "    @NLobjective(model_a, Min, facilities_cost+equity_cost);\n",
    "    return model_a\n",
    "end"
   ]
  },
  {
   "cell_type": "code",
   "execution_count": 122,
   "id": "f31ae79c-81c6-4f90-96ea-84c27bb84b7c",
   "metadata": {},
   "outputs": [
    {
     "name": "stdout",
     "output_type": "stream",
     "text": [
      "variables, costs added\n"
     ]
    },
    {
     "ename": "LoadError",
     "evalue": "InterruptException:",
     "output_type": "error",
     "traceback": [
      "InterruptException:",
      "",
      "Stacktrace:",
      " [1] _setindex!(h::OrderedCollections.OrderedDict{UnorderedPair{VariableRef}, Float64}, v::Float64, key::UnorderedPair{VariableRef}, index::Int64)",
      "   @ OrderedCollections ~/.julia/packages/OrderedCollections/SInLM/src/ordered_dict.jl:307",
      " [2] setindex!",
      "   @ ~/.julia/packages/OrderedCollections/SInLM/src/ordered_dict.jl:338 [inlined]",
      " [3] _add_or_set!(dict::OrderedCollections.OrderedDict{UnorderedPair{VariableRef}, Float64}, k::UnorderedPair{VariableRef}, v::Float64)",
      "   @ JuMP ~/.julia/packages/JuMP/OUdu2/src/aff_expr.jl:26",
      " [4] add_to_expression!",
      "   @ ~/.julia/packages/JuMP/OUdu2/src/quad_expr.jl:503 [inlined]",
      " [5] add_to_expression!(quad::QuadExpr, lhs::AffExpr, rhs::AffExpr)",
      "   @ JuMP ~/.julia/packages/JuMP/OUdu2/src/quad_expr.jl:456",
      " [6] *",
      "   @ ~/.julia/packages/JuMP/OUdu2/src/operators.jl:326 [inlined]",
      " [7] ^(lhs::AffExpr, rhs::Int64)",
      "   @ JuMP ~/.julia/packages/JuMP/OUdu2/src/operators.jl:216",
      " [8] lp_distance_model(p::Int64, precincts::Matrix{Float64}, population::Dict{Any, Any}, hospitals::Matrix{Float64})",
      "   @ Main ./In[121]:35"
     ]
    }
   ],
   "source": [
    "model = lp_distance_model(2,precincts, population, hospitals);"
   ]
  },
  {
   "cell_type": "code",
   "execution_count": null,
   "id": "4b44f54d-ad18-4d87-8e93-1a7914afbbad",
   "metadata": {},
   "outputs": [
    {
     "name": "stdout",
     "output_type": "stream",
     "text": [
      "nl_solver         : MathOptInterface.OptimizerWithAttributes(Ipopt.Optimizer, Pair{MathOptInterface.AbstractOptimizerAttribute, Any}[MathOptInterface.RawOptimizerAttribute(\"print_level\") => 0])\n",
      "feasibility_pump  : false\n",
      "log_levels        : [:Options, :Table, :Info]\n",
      "\n",
      "#Variables: 10010\n",
      "#IntBinVar: 10010\n",
      "Obj Sense: Min\n",
      "\n",
      "Start values are not feasible.\n",
      "Status of relaxation: LOCALLY_SOLVED\n",
      "Time for relaxation: 25005.882311105728\n",
      "Relaxation Obj: 0.0008000272097948911\n",
      "\n",
      " ONodes   CLevel          Incumbent                   BestBound            Gap    Time   Restarts  GainGap  \n",
      "============================================================================================================\n",
      "    2       2                 -                          0.0                -   59966.0     0         -     \n"
     ]
    },
    {
     "name": "stderr",
     "output_type": "stream",
     "text": [
      "\u001b[36m\u001b[1m[ \u001b[22m\u001b[39m\u001b[36m\u001b[1mInfo: \u001b[22m\u001b[39mBreaking out of strong branching as the time limit of 100.0 seconds got reached.\n"
     ]
    },
    {
     "name": "stdout",
     "output_type": "stream",
     "text": [
      "    2       3                 -                          0.0                -   73916.9     -         >>    \n"
     ]
    }
   ],
   "source": [
    "optimize!(model)"
   ]
  },
  {
   "cell_type": "code",
   "execution_count": 71,
   "id": "86c0ca6f-f4ff-4a19-a319-99e3e737c229",
   "metadata": {},
   "outputs": [],
   "source": [
    "@variable(model_a, x[facilities_index, clients_index], Bin);"
   ]
  },
  {
   "cell_type": "code",
   "execution_count": 72,
   "id": "f13dd323-62a3-4883-881f-8b5426f3b8c5",
   "metadata": {},
   "outputs": [],
   "source": [
    "@variable(model_a, y[facilities_index], Bin);"
   ]
  },
  {
   "cell_type": "code",
   "execution_count": 73,
   "id": "eade7cd4-ed70-47b2-8c89-797827021f7f",
   "metadata": {},
   "outputs": [],
   "source": [
    "@constraint(model_a, [i in facilities_index], sum( x[i,j] for j in clients_index) >= 1);"
   ]
  },
  {
   "cell_type": "code",
   "execution_count": 74,
   "id": "3362427b-a723-4a08-b8fa-cbf792a60765",
   "metadata": {},
   "outputs": [],
   "source": [
    "@constraint(model_a, [i in facilities_index, j in clients_index], x[i,j] <= y[i]);"
   ]
  },
  {
   "cell_type": "code",
   "execution_count": 75,
   "id": "f7b7da91-0c88-47ac-b94e-982fede46f04",
   "metadata": {},
   "outputs": [
    {
     "data": {
      "text/plain": [
       "0"
      ]
     },
     "execution_count": 75,
     "metadata": {},
     "output_type": "execute_result"
    }
   ],
   "source": [
    "facilities_cost = 0"
   ]
  },
  {
   "cell_type": "code",
   "execution_count": 76,
   "id": "42b9f208-6a35-439a-9a8e-199f46a7feef",
   "metadata": {},
   "outputs": [
    {
     "data": {
      "text/plain": [
       "d (generic function with 1 method)"
      ]
     },
     "execution_count": 76,
     "metadata": {},
     "output_type": "execute_result"
    }
   ],
   "source": [
    "function d(i,j)\n",
    "    return 1\n",
    "end"
   ]
  },
  {
   "cell_type": "code",
   "execution_count": 79,
   "id": "5bd78fa8-d5f9-4813-8ca7-c9bb61fcefc8",
   "metadata": {},
   "outputs": [
    {
     "name": "stderr",
     "output_type": "stream",
     "text": [
      "\u001b[33m\u001b[1m┌ \u001b[22m\u001b[39m\u001b[33m\u001b[1mWarning: \u001b[22m\u001b[39mThe addition operator has been used on JuMP expressions a large number of times. This warning is safe to ignore but may indicate that model generation is slower than necessary. For performance reasons, you should not add expressions in a loop. Instead of x += y, use add_to_expression!(x,y) to modify x in place. If y is a single variable, you may also use add_to_expression!(x, coef, y) for x += coef*y.\n",
      "\u001b[33m\u001b[1m└ \u001b[22m\u001b[39m\u001b[90m@ JuMP ~/.julia/packages/JuMP/OUdu2/src/operators.jl:279\u001b[39m\n"
     ]
    }
   ],
   "source": [
    "# @NLexpression(model, obj_expr, sum(x[i] for i in 1:3))\n",
    "# @NLobjective(model, Min, obj_expr)\n",
    "equity_cost = sum(sum(x[i,j]*d(i,j) for i in facilities_index) for j in clients_index)\n",
    "@objective(model_a, Min, facilities_cost+equity_cost);"
   ]
  },
  {
   "cell_type": "code",
   "execution_count": 81,
   "id": "9604ae81-88f4-4ab7-a02a-c5e5b6acdaf5",
   "metadata": {},
   "outputs": [
    {
     "name": "stdout",
     "output_type": "stream",
     "text": [
      "nl_solver         : MathOptInterface.OptimizerWithAttributes(Ipopt.Optimizer, Pair{MathOptInterface.AbstractOptimizerAttribute, Any}[MathOptInterface.RawOptimizerAttribute(\"print_level\") => 0])\n",
      "feasibility_pump  : false\n",
      "log_levels        : [:Options, :Table, :Info]\n",
      "\n",
      "#Variables: 100010\n",
      "#IntBinVar: 100010\n",
      "Obj Sense: Min\n",
      "\n",
      "Start values are not feasible.\n",
      "Status of relaxation: LOCALLY_SOLVED\n",
      "Time for relaxation: 5.699100971221924\n",
      "Relaxation Obj: 9.999999925032196\n",
      "\n",
      " ONodes   CLevel          Incumbent                   BestBound            Gap    Time   Restarts  GainGap  \n",
      "============================================================================================================\n",
      "    2       2                 -                          10.0               -    100.8      0         -     \n"
     ]
    },
    {
     "name": "stderr",
     "output_type": "stream",
     "text": [
      "\u001b[36m\u001b[1m[ \u001b[22m\u001b[39m\u001b[36m\u001b[1mInfo: \u001b[22m\u001b[39mBreaking out of strong branching as the time limit of 100.0 seconds got reached.\n"
     ]
    },
    {
     "name": "stdout",
     "output_type": "stream",
     "text": [
      "    2       3                 -                          10.0               -    110.3      -         >>    \n",
      "    2       4                 -                          10.0               -    119.8      -         >>    \n",
      "    2       5                 -                          10.0               -    129.4      -         >>    \n"
     ]
    },
    {
     "ename": "LoadError",
     "evalue": "InterruptException:",
     "output_type": "error",
     "traceback": [
      "InterruptException:",
      "",
      "Stacktrace:",
      "  [1] IpoptSolve(prob::IpoptProblem)",
      "    @ Ipopt ~/.julia/packages/Ipopt/GMR7n/src/C_wrapper.jl:442",
      "  [2] optimize!(model::Ipopt.Optimizer)",
      "    @ Ipopt ~/.julia/packages/Ipopt/GMR7n/src/MOI_wrapper.jl:924",
      "  [3] optimize!(b::MathOptInterface.Bridges.LazyBridgeOptimizer{Ipopt.Optimizer})",
      "    @ MathOptInterface.Bridges ~/.julia/packages/MathOptInterface/LQvlf/src/Bridges/bridge_optimizer.jl:376",
      "  [4] process_node!(m::Juniper.JuniperProblem, step_obj::Juniper.StepObj, cnode::Juniper.BnBNode, disc2var_idx::Vector{Int64}, temp::Bool; restarts::Int64)",
      "    @ Juniper ~/.julia/packages/Juniper/0Z1vO/src/BnBTree.jl:87",
      "  [5] process_node!",
      "    @ ~/.julia/packages/Juniper/0Z1vO/src/BnBTree.jl:71 [inlined]",
      "  [6] branch!(m::Juniper.JuniperProblem, opts::Juniper.SolverOptions, step_obj::Juniper.StepObj, counter::Int64, disc2var_idx::Vector{Int64}; temp::Bool)",
      "    @ Juniper ~/.julia/packages/Juniper/0Z1vO/src/BnBTree.jl:197",
      "  [7] branch!(m::Juniper.JuniperProblem, opts::Juniper.SolverOptions, step_obj::Juniper.StepObj, counter::Int64, disc2var_idx::Vector{Int64})",
      "    @ Juniper ~/.julia/packages/Juniper/0Z1vO/src/BnBTree.jl:152",
      "  [8] one_branch_step!(m1::Juniper.JuniperProblem, incumbent::Nothing, opts::Juniper.SolverOptions, step_obj::Juniper.StepObj, disc2var_idx::Vector{Int64}, gains::Juniper.GainObj, counter::Int64)",
      "    @ Juniper ~/.julia/packages/Juniper/0Z1vO/src/BnBTree.jl:381",
      "  [9] solve_sequential(tree::Juniper.BnBTreeObj, last_table_arr::Vector{Any}, time_bnb_solve_start::Float64, fields::Vector{Symbol}, field_chars::Vector{Int64}, time_obj::Juniper.TimeObj)",
      "    @ Juniper ~/.julia/packages/Juniper/0Z1vO/src/BnBTree.jl:478",
      " [10] solvemip(tree::Juniper.BnBTreeObj)",
      "    @ Juniper ~/.julia/packages/Juniper/0Z1vO/src/BnBTree.jl:743",
      " [11] optimize!(model::Juniper.Optimizer)",
      "    @ Juniper ~/.julia/packages/Juniper/0Z1vO/src/MOI_wrapper/MOI_wrapper.jl:358",
      " [12] optimize!",
      "    @ ~/.julia/packages/MathOptInterface/LQvlf/src/Bridges/bridge_optimizer.jl:376 [inlined]",
      " [13] optimize!",
      "    @ ~/.julia/packages/MathOptInterface/LQvlf/src/MathOptInterface.jl:85 [inlined]",
      " [14] optimize!(m::MathOptInterface.Utilities.CachingOptimizer{MathOptInterface.Bridges.LazyBridgeOptimizer{Juniper.Optimizer}, MathOptInterface.Utilities.UniversalFallback{MathOptInterface.Utilities.Model{Float64}}})",
      "    @ MathOptInterface.Utilities ~/.julia/packages/MathOptInterface/LQvlf/src/Utilities/cachingoptimizer.jl:316",
      " [15] optimize!(model::Model; ignore_optimize_hook::Bool, _differentiation_backend::MathOptInterface.Nonlinear.SparseReverseMode, kwargs::Base.Pairs{Symbol, Union{}, Tuple{}, NamedTuple{(), Tuple{}}})",
      "    @ JuMP ~/.julia/packages/JuMP/OUdu2/src/optimizer_interface.jl:447",
      " [16] optimize!(model::Model)",
      "    @ JuMP ~/.julia/packages/JuMP/OUdu2/src/optimizer_interface.jl:409"
     ]
    }
   ],
   "source": [
    "optimize!(model_a)"
   ]
  },
  {
   "cell_type": "code",
   "execution_count": 51,
   "id": "5241bbc0-7e6d-46ef-9ece-1a8bde284a10",
   "metadata": {},
   "outputs": [
    {
     "ename": "LoadError",
     "evalue": "Constraints of type MathOptInterface.VariableIndex-in-MathOptInterface.ZeroOne are not supported by the solver.\n\nIf you expected the solver to support your problem, you may have an error in your formulation. Otherwise, consider using a different solver.\n\nThe list of available solvers, along with the problem types they support, is available at https://jump.dev/JuMP.jl/stable/installation/#Supported-solvers.",
     "output_type": "error",
     "traceback": [
      "Constraints of type MathOptInterface.VariableIndex-in-MathOptInterface.ZeroOne are not supported by the solver.\n\nIf you expected the solver to support your problem, you may have an error in your formulation. Otherwise, consider using a different solver.\n\nThe list of available solvers, along with the problem types they support, is available at https://jump.dev/JuMP.jl/stable/installation/#Supported-solvers.",
      "",
      "Stacktrace:",
      "  [1] error(s::String)",
      "    @ Base ./error.jl:35",
      "  [2] _moi_add_constraint",
      "    @ ~/.julia/packages/JuMP/OUdu2/src/constraints.jl:679 [inlined]",
      "  [3] _moi_constrain_variable(moi_backend::MathOptInterface.Utilities.CachingOptimizer{MathOptInterface.Bridges.LazyBridgeOptimizer{Ipopt.Optimizer}, MathOptInterface.Utilities.UniversalFallback{MathOptInterface.Utilities.Model{Float64}}}, index::MathOptInterface.VariableIndex, info::VariableInfo{Float64, Float64, Float64, Float64}, #unused#::Type{Float64})",
      "    @ JuMP ~/.julia/packages/JuMP/OUdu2/src/variables.jl:1740",
      "  [4] _moi_add_variable(moi_backend::MathOptInterface.Utilities.CachingOptimizer{MathOptInterface.Bridges.LazyBridgeOptimizer{Ipopt.Optimizer}, MathOptInterface.Utilities.UniversalFallback{MathOptInterface.Utilities.Model{Float64}}}, model::Model, v::ScalarVariable{Float64, Float64, Float64, Float64}, name::String)",
      "    @ JuMP ~/.julia/packages/JuMP/OUdu2/src/variables.jl:1702",
      "  [5] add_variable(model::Model, v::ScalarVariable{Float64, Float64, Float64, Float64}, name::String)",
      "    @ JuMP ~/.julia/packages/JuMP/OUdu2/src/variables.jl:1691",
      "  [6] #59",
      "    @ ~/.julia/packages/JuMP/OUdu2/src/Containers/macro.jl:301 [inlined]",
      "  [7] #87",
      "    @ ~/.julia/packages/JuMP/OUdu2/src/Containers/container.jl:124 [inlined]",
      "  [8] iterate",
      "    @ ./generator.jl:47 [inlined]",
      "  [9] collect(itr::Base.Generator{JuMP.Containers.VectorizedProductIterator{Tuple{UnitRange{Int64}, UnitRange{Int64}}}, JuMP.Containers.var\"#87#89\"{var\"#59#65\"{Model}}})",
      "    @ Base ./array.jl:782",
      " [10] map(f::Function, A::JuMP.Containers.VectorizedProductIterator{Tuple{UnitRange{Int64}, UnitRange{Int64}}})",
      "    @ Base ./abstractarray.jl:3291",
      " [11] container(f::Function, indices::JuMP.Containers.VectorizedProductIterator{Tuple{UnitRange{Int64}, UnitRange{Int64}}}, ::Type{JuMP.Containers.DenseAxisArray}, names::Vector{Any})",
      "    @ JuMP.Containers ~/.julia/packages/JuMP/OUdu2/src/Containers/container.jl:123",
      " [12] container(f::Function, indices::JuMP.Containers.VectorizedProductIterator{Tuple{UnitRange{Int64}, UnitRange{Int64}}}, #unused#::Type{JuMP.Containers.AutoContainerType}, names::Vector{Any})",
      "    @ JuMP.Containers ~/.julia/packages/JuMP/OUdu2/src/Containers/container.jl:75",
      " [13] macro expansion",
      "    @ ~/.julia/packages/JuMP/OUdu2/src/macros.jl:1211 [inlined]",
      " [14] create_model()",
      "    @ Main ./In[51]:8",
      " [15] top-level scope",
      "    @ In[51]:27"
     ]
    }
   ],
   "source": [
    "using JuMP\n",
    "using Ipopt\n",
    "\n",
    "function create_model()\n",
    "    model = Model(Ipopt.Optimizer)\n",
    "\n",
    "    # Define decision variables\n",
    "    @variable(model, x[facilities_index, clients_index],Bin)\n",
    "    @variable(model, y[facilities_index], Bin)\n",
    "\n",
    "    # # Add constraints\n",
    "    # @constraint(model, [i in facilities_index], sum( x[i,j] for j in clients_index) >= 1)\n",
    "    # @constraint(model, [i in facilities_index, j in clients_index], x[i,j] <= y[i])\n",
    "\n",
    "    # # Set nonlinear objective function\n",
    "    \n",
    "    # # facilities_cost = sum(c[i]*y[i] for i in facilities_index) # need to find c\n",
    "    # facilities_cost = 0\n",
    "    # equity_cost = sum(sum(x[i,j]*d(i,j) for i in facilities_index) for j in clients_index)\n",
    "    # # @NLexpression(model, obj_expr, sum(x[i] for i in 1:3))\n",
    "    # # @NLobjective(model, Min, obj_expr)\n",
    "    # @objective(model, Min, facilities_cost+equity_cost)\n",
    "    # return model\n",
    "end\n",
    "\n",
    "# Solve the model\n",
    "model = create_model()\n",
    "optimize!(model)\n",
    "\n",
    "# Print results\n",
    "println(\"Optimal solution:\")\n",
    "println(\"x = \", value.(x))\n",
    "println(\"Objective value = \", objective_value(model))\n"
   ]
  },
  {
   "cell_type": "code",
   "execution_count": 56,
   "id": "864adb57-cafa-4c55-82a0-45235956fbe4",
   "metadata": {},
   "outputs": [
    {
     "data": {
      "text/plain": [
       "A JuMP Model\n",
       "Feasibility problem with:\n",
       "Variables: 0\n",
       "Model mode: AUTOMATIC\n",
       "CachingOptimizer state: EMPTY_OPTIMIZER\n",
       "Solver name: Ipopt"
      ]
     },
     "execution_count": 56,
     "metadata": {},
     "output_type": "execute_result"
    }
   ],
   "source": []
  },
  {
   "cell_type": "code",
   "execution_count": 58,
   "id": "979f35aa-f5b7-42c5-91bd-19e37c6a9bfc",
   "metadata": {
    "scrolled": true
   },
   "outputs": [
    {
     "ename": "LoadError",
     "evalue": "Constraints of type MathOptInterface.VariableIndex-in-MathOptInterface.ZeroOne are not supported by the solver.\n\nIf you expected the solver to support your problem, you may have an error in your formulation. Otherwise, consider using a different solver.\n\nThe list of available solvers, along with the problem types they support, is available at https://jump.dev/JuMP.jl/stable/installation/#Supported-solvers.",
     "output_type": "error",
     "traceback": [
      "Constraints of type MathOptInterface.VariableIndex-in-MathOptInterface.ZeroOne are not supported by the solver.\n\nIf you expected the solver to support your problem, you may have an error in your formulation. Otherwise, consider using a different solver.\n\nThe list of available solvers, along with the problem types they support, is available at https://jump.dev/JuMP.jl/stable/installation/#Supported-solvers.",
      "",
      "Stacktrace:",
      "  [1] error(s::String)",
      "    @ Base ./error.jl:35",
      "  [2] _moi_add_constraint",
      "    @ ~/.julia/packages/JuMP/OUdu2/src/constraints.jl:679 [inlined]",
      "  [3] _moi_constrain_variable(moi_backend::MathOptInterface.Utilities.CachingOptimizer{MathOptInterface.Bridges.LazyBridgeOptimizer{Ipopt.Optimizer}, MathOptInterface.Utilities.UniversalFallback{MathOptInterface.Utilities.Model{Float64}}}, index::MathOptInterface.VariableIndex, info::VariableInfo{Float64, Float64, Float64, Float64}, #unused#::Type{Float64})",
      "    @ JuMP ~/.julia/packages/JuMP/OUdu2/src/variables.jl:1740",
      "  [4] _moi_add_variable(moi_backend::MathOptInterface.Utilities.CachingOptimizer{MathOptInterface.Bridges.LazyBridgeOptimizer{Ipopt.Optimizer}, MathOptInterface.Utilities.UniversalFallback{MathOptInterface.Utilities.Model{Float64}}}, model::Model, v::ScalarVariable{Float64, Float64, Float64, Float64}, name::String)",
      "    @ JuMP ~/.julia/packages/JuMP/OUdu2/src/variables.jl:1702",
      "  [5] add_variable(model::Model, v::ScalarVariable{Float64, Float64, Float64, Float64}, name::String)",
      "    @ JuMP ~/.julia/packages/JuMP/OUdu2/src/variables.jl:1691",
      "  [6] #81",
      "    @ ~/.julia/packages/JuMP/OUdu2/src/Containers/macro.jl:301 [inlined]",
      "  [7] #87",
      "    @ ~/.julia/packages/JuMP/OUdu2/src/Containers/container.jl:124 [inlined]",
      "  [8] iterate",
      "    @ ./generator.jl:47 [inlined]",
      "  [9] collect(itr::Base.Generator{JuMP.Containers.VectorizedProductIterator{Tuple{UnitRange{Int64}, UnitRange{Int64}}}, JuMP.Containers.var\"#87#89\"{var\"#81#82\"{Model}}})",
      "    @ Base ./array.jl:782",
      " [10] map(f::Function, A::JuMP.Containers.VectorizedProductIterator{Tuple{UnitRange{Int64}, UnitRange{Int64}}})",
      "    @ Base ./abstractarray.jl:3291",
      " [11] container(f::Function, indices::JuMP.Containers.VectorizedProductIterator{Tuple{UnitRange{Int64}, UnitRange{Int64}}}, ::Type{JuMP.Containers.DenseAxisArray}, names::Vector{Any})",
      "    @ JuMP.Containers ~/.julia/packages/JuMP/OUdu2/src/Containers/container.jl:123",
      " [12] container(f::Function, indices::JuMP.Containers.VectorizedProductIterator{Tuple{UnitRange{Int64}, UnitRange{Int64}}}, #unused#::Type{JuMP.Containers.AutoContainerType}, names::Vector{Any})",
      "    @ JuMP.Containers ~/.julia/packages/JuMP/OUdu2/src/Containers/container.jl:75",
      " [13] macro expansion",
      "    @ ~/.julia/packages/JuMP/OUdu2/src/macros.jl:1211 [inlined]",
      " [14] top-level scope",
      "    @ In[58]:2"
     ]
    }
   ],
   "source": [
    "# Define decision variables\n",
    "model_2 = Model(Ipopt.Optimizer)\n",
    "@variable(model_2, x[facilities_index, clients_index], binary=true)"
   ]
  },
  {
   "cell_type": "code",
   "execution_count": null,
   "id": "79a423f7-f094-4a1d-b7df-fff1ef26bf91",
   "metadata": {},
   "outputs": [],
   "source": []
  }
 ],
 "metadata": {
  "kernelspec": {
   "display_name": "Julia 1.9.3",
   "language": "julia",
   "name": "julia-1.9"
  },
  "language_info": {
   "file_extension": ".jl",
   "mimetype": "application/julia",
   "name": "julia",
   "version": "1.9.3"
  }
 },
 "nbformat": 4,
 "nbformat_minor": 5
}
